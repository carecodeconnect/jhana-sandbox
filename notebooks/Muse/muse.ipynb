{
 "cells": [
  {
   "cell_type": "code",
   "execution_count": 6,
   "metadata": {},
   "outputs": [
    {
     "name": "stdout",
     "output_type": "stream",
     "text": [
      "Searching for Muses, this may take up to 10 seconds...\n",
      "Found device Muse-01EE, MAC Address 4D5E2EB4-EB72-1BE0-19D4-501ED06DF20A\n",
      "\u001b[0m\u001b[2m2024-03-06 11:35:35.162 (  11.721s) [          1F340A]      netinterfaces.cpp:91    INFO| \u001b[0mnetif 'lo0' (status: 1, multicast: 32768, broadcast: 0)\u001b[0m\n",
      "\u001b[0m\u001b[2m2024-03-06 11:35:35.162 (  11.721s) [          1F340A]      netinterfaces.cpp:91    INFO| \u001b[0mnetif 'lo0' (status: 1, multicast: 32768, broadcast: 0)\u001b[0m\n",
      "\u001b[0m\u001b[2m2024-03-06 11:35:35.162 (  11.721s) [          1F340A]      netinterfaces.cpp:102   INFO| \u001b[0m\tIPv4 addr: 7f000001\u001b[0m\n",
      "\u001b[0m\u001b[2m2024-03-06 11:35:35.162 (  11.721s) [          1F340A]      netinterfaces.cpp:91    INFO| \u001b[0mnetif 'lo0' (status: 1, multicast: 32768, broadcast: 0)\u001b[0m\n",
      "\u001b[0m\u001b[2m2024-03-06 11:35:35.162 (  11.721s) [          1F340A]      netinterfaces.cpp:105   INFO| \u001b[0m\tIPv6 addr: ::1\u001b[0m\n",
      "\u001b[0m\u001b[2m2024-03-06 11:35:35.162 (  11.722s) [          1F340A]      netinterfaces.cpp:91    INFO| \u001b[0mnetif 'lo0' (status: 1, multicast: 32768, broadcast: 0)\u001b[0m\n",
      "\u001b[0m\u001b[2m2024-03-06 11:35:35.163 (  11.722s) [          1F340A]      netinterfaces.cpp:105   INFO| \u001b[0m\tIPv6 addr: fe80::1%lo0\u001b[0m\n",
      "\u001b[0m\u001b[2m2024-03-06 11:35:35.164 (  11.723s) [          1F340A]      netinterfaces.cpp:91    INFO| \u001b[0mnetif 'gif0' (status: 0, multicast: 32768, broadcast: 0)\u001b[0m\n",
      "\u001b[0m\u001b[2m2024-03-06 11:35:35.164 (  11.723s) [          1F340A]      netinterfaces.cpp:91    INFO| \u001b[0mnetif 'stf0' (status: 0, multicast: 0, broadcast: 0)\u001b[0m\n",
      "\u001b[0m\u001b[2m2024-03-06 11:35:35.164 (  11.723s) [          1F340A]      netinterfaces.cpp:91    INFO| \u001b[0mnetif 'anpi1' (status: 1, multicast: 32768, broadcast: 2)\u001b[0m\n",
      "\u001b[0m\u001b[2m2024-03-06 11:35:35.164 (  11.723s) [          1F340A]      netinterfaces.cpp:91    INFO| \u001b[0mnetif 'anpi0' (status: 1, multicast: 32768, broadcast: 2)\u001b[0m\n",
      "\u001b[0m\u001b[2m2024-03-06 11:35:35.164 (  11.723s) [          1F340A]      netinterfaces.cpp:91    INFO| \u001b[0mnetif 'en3' (status: 1, multicast: 32768, broadcast: 2)\u001b[0m\n",
      "\u001b[0m\u001b[2m2024-03-06 11:35:35.164 (  11.723s) [          1F340A]      netinterfaces.cpp:91    INFO| \u001b[0mnetif 'en4' (status: 1, multicast: 32768, broadcast: 2)\u001b[0m\n",
      "\u001b[0m\u001b[2m2024-03-06 11:35:35.164 (  11.723s) [          1F340A]      netinterfaces.cpp:91    INFO| \u001b[0mnetif 'en1' (status: 1, multicast: 32768, broadcast: 2)\u001b[0m\n",
      "\u001b[0m\u001b[2m2024-03-06 11:35:35.165 (  11.724s) [          1F340A]      netinterfaces.cpp:91    INFO| \u001b[0mnetif 'en2' (status: 1, multicast: 32768, broadcast: 2)\u001b[0m\n",
      "\u001b[0m\u001b[2m2024-03-06 11:35:35.165 (  11.724s) [          1F340A]      netinterfaces.cpp:91    INFO| \u001b[0mnetif 'bridge0' (status: 1, multicast: 32768, broadcast: 2)\u001b[0m\n",
      "\u001b[0m\u001b[2m2024-03-06 11:35:35.165 (  11.724s) [          1F340A]      netinterfaces.cpp:91    INFO| \u001b[0mnetif 'ap1' (status: 1, multicast: 32768, broadcast: 2)\u001b[0m\n",
      "\u001b[0m\u001b[2m2024-03-06 11:35:35.165 (  11.724s) [          1F340A]      netinterfaces.cpp:91    INFO| \u001b[0mnetif 'ap1' (status: 1, multicast: 32768, broadcast: 2)\u001b[0m\n",
      "\u001b[0m\u001b[2m2024-03-06 11:35:35.165 (  11.724s) [          1F340A]      netinterfaces.cpp:105   INFO| \u001b[0m\tIPv6 addr: fe80::b0be:83ff:fe7d:5a7b%ap1\u001b[0m\n",
      "\u001b[0m\u001b[2m2024-03-06 11:35:35.165 (  11.724s) [          1F340A]      netinterfaces.cpp:91    INFO| \u001b[0mnetif 'en0' (status: 1, multicast: 32768, broadcast: 2)\u001b[0m\n",
      "\u001b[0m\u001b[2m2024-03-06 11:35:35.165 (  11.724s) [          1F340A]      netinterfaces.cpp:91    INFO| \u001b[0mnetif 'en0' (status: 1, multicast: 32768, broadcast: 2)\u001b[0m\n",
      "\u001b[0m\u001b[2m2024-03-06 11:35:35.165 (  11.724s) [          1F340A]      netinterfaces.cpp:105   INFO| \u001b[0m\tIPv6 addr: fe80::cc:8192:5288:654c%en0\u001b[0m\n",
      "\u001b[0m\u001b[2m2024-03-06 11:35:35.165 (  11.724s) [          1F340A]      netinterfaces.cpp:91    INFO| \u001b[0mnetif 'en0' (status: 1, multicast: 32768, broadcast: 2)\u001b[0m\n",
      "\u001b[0m\u001b[2m2024-03-06 11:35:35.165 (  11.724s) [          1F340A]      netinterfaces.cpp:102   INFO| \u001b[0m\tIPv4 addr: c0a800c3\u001b[0m\n",
      "\u001b[0m\u001b[2m2024-03-06 11:35:35.165 (  11.724s) [          1F340A]      netinterfaces.cpp:91    INFO| \u001b[0mnetif 'en0' (status: 1, multicast: 32768, broadcast: 2)\u001b[0m\n",
      "\u001b[0m\u001b[2m2024-03-06 11:35:35.165 (  11.724s) [          1F340A]      netinterfaces.cpp:105   INFO| \u001b[0m\tIPv6 addr: 2a02:8109:bf0b:2000:181d:3351:b981:1b75\u001b[0m\n",
      "\u001b[0m\u001b[2m2024-03-06 11:35:35.165 (  11.724s) [          1F340A]      netinterfaces.cpp:91    INFO| \u001b[0mnetif 'en0' (status: 1, multicast: 32768, broadcast: 2)\u001b[0m\n",
      "\u001b[0m\u001b[2m2024-03-06 11:35:35.165 (  11.724s) [          1F340A]      netinterfaces.cpp:105   INFO| \u001b[0m\tIPv6 addr: 2a02:8109:bf0b:2000:98e3:b1e0:c0dc:9285\u001b[0m\n",
      "\u001b[0m\u001b[2m2024-03-06 11:35:35.165 (  11.724s) [          1F340A]      netinterfaces.cpp:91    INFO| \u001b[0mnetif 'en0' (status: 1, multicast: 32768, broadcast: 2)\u001b[0m\n",
      "\u001b[0m\u001b[2m2024-03-06 11:35:35.165 (  11.725s) [          1F340A]      netinterfaces.cpp:105   INFO| \u001b[0m\tIPv6 addr: 2a02:8109:bf0b:2000:cf:6476:8d2a:50ec\u001b[0m\n",
      "\u001b[0m\u001b[2m2024-03-06 11:35:35.165 (  11.725s) [          1F340A]      netinterfaces.cpp:91    INFO| \u001b[0mnetif 'awdl0' (status: 1, multicast: 32768, broadcast: 2)\u001b[0m\n",
      "\u001b[0m\u001b[2m2024-03-06 11:35:35.165 (  11.725s) [          1F340A]      netinterfaces.cpp:91    INFO| \u001b[0mnetif 'awdl0' (status: 1, multicast: 32768, broadcast: 2)\u001b[0m\n",
      "\u001b[0m\u001b[2m2024-03-06 11:35:35.166 (  11.725s) [          1F340A]      netinterfaces.cpp:105   INFO| \u001b[0m\tIPv6 addr: fe80::3484:a4ff:fef8:d230%awdl0\u001b[0m\n",
      "\u001b[0m\u001b[2m2024-03-06 11:35:35.166 (  11.725s) [          1F340A]      netinterfaces.cpp:91    INFO| \u001b[0mnetif 'llw0' (status: 1, multicast: 32768, broadcast: 2)\u001b[0m\n",
      "\u001b[0m\u001b[2m2024-03-06 11:35:35.166 (  11.725s) [          1F340A]      netinterfaces.cpp:91    INFO| \u001b[0mnetif 'llw0' (status: 1, multicast: 32768, broadcast: 2)\u001b[0m\n",
      "\u001b[0m\u001b[2m2024-03-06 11:35:35.166 (  11.725s) [          1F340A]      netinterfaces.cpp:105   INFO| \u001b[0m\tIPv6 addr: fe80::3484:a4ff:fef8:d230%llw0\u001b[0m\n",
      "\u001b[0m\u001b[2m2024-03-06 11:35:35.166 (  11.725s) [          1F340A]      netinterfaces.cpp:91    INFO| \u001b[0mnetif 'utun0' (status: 1, multicast: 32768, broadcast: 0)\u001b[0m\n",
      "\u001b[0m\u001b[2m2024-03-06 11:35:35.166 (  11.725s) [          1F340A]      netinterfaces.cpp:91    INFO| \u001b[0mnetif 'utun0' (status: 1, multicast: 32768, broadcast: 0)\u001b[0m\n",
      "\u001b[0m\u001b[2m2024-03-06 11:35:35.166 (  11.726s) [          1F340A]      netinterfaces.cpp:105   INFO| \u001b[0m\tIPv6 addr: fe80::1ca:d6dd:1f9:f2c5%utun0\u001b[0m\n",
      "\u001b[0m\u001b[2m2024-03-06 11:35:35.166 (  11.726s) [          1F340A]      netinterfaces.cpp:91    INFO| \u001b[0mnetif 'utun1' (status: 1, multicast: 32768, broadcast: 0)\u001b[0m\n",
      "\u001b[0m\u001b[2m2024-03-06 11:35:35.166 (  11.726s) [          1F340A]      netinterfaces.cpp:91    INFO| \u001b[0mnetif 'utun1' (status: 1, multicast: 32768, broadcast: 0)\u001b[0m\n",
      "\u001b[0m\u001b[2m2024-03-06 11:35:35.167 (  11.726s) [          1F340A]      netinterfaces.cpp:105   INFO| \u001b[0m\tIPv6 addr: fe80::a49b:d4fc:80f0:9417%utun1\u001b[0m\n",
      "\u001b[0m\u001b[2m2024-03-06 11:35:35.167 (  11.726s) [          1F340A]      netinterfaces.cpp:91    INFO| \u001b[0mnetif 'utun2' (status: 1, multicast: 32768, broadcast: 0)\u001b[0m\n",
      "\u001b[0m\u001b[2m2024-03-06 11:35:35.167 (  11.726s) [          1F340A]      netinterfaces.cpp:91    INFO| \u001b[0mnetif 'utun2' (status: 1, multicast: 32768, broadcast: 0)\u001b[0m\n",
      "\u001b[0m\u001b[2m2024-03-06 11:35:35.167 (  11.726s) [          1F340A]      netinterfaces.cpp:105   INFO| \u001b[0m\tIPv6 addr: fe80::ac51:e2f5:1d05:3ab0%utun2\u001b[0m\n",
      "\u001b[0m\u001b[2m2024-03-06 11:35:35.167 (  11.726s) [          1F340A]      netinterfaces.cpp:91    INFO| \u001b[0mnetif 'utun3' (status: 1, multicast: 32768, broadcast: 0)\u001b[0m\n",
      "\u001b[0m\u001b[2m2024-03-06 11:35:35.167 (  11.726s) [          1F340A]      netinterfaces.cpp:91    INFO| \u001b[0mnetif 'utun3' (status: 1, multicast: 32768, broadcast: 0)\u001b[0m\n",
      "\u001b[0m\u001b[2m2024-03-06 11:35:35.167 (  11.726s) [          1F340A]      netinterfaces.cpp:105   INFO| \u001b[0m\tIPv6 addr: fe80::ce81:b1c:bd2c:69e%utun3\u001b[0m\n",
      "\u001b[0m\u001b[2m2024-03-06 11:35:35.167 (  11.726s) [          1F340A]      netinterfaces.cpp:91    INFO| \u001b[0mnetif 'utun4' (status: 1, multicast: 32768, broadcast: 0)\u001b[0m\n",
      "\u001b[0m\u001b[2m2024-03-06 11:35:35.167 (  11.726s) [          1F340A]      netinterfaces.cpp:91    INFO| \u001b[0mnetif 'utun4' (status: 1, multicast: 32768, broadcast: 0)\u001b[0m\n",
      "\u001b[0m\u001b[2m2024-03-06 11:35:35.167 (  11.726s) [          1F340A]      netinterfaces.cpp:105   INFO| \u001b[0m\tIPv6 addr: fe80::e0f2:60c1:efbc:f784%utun4\u001b[0m\n",
      "\u001b[0m\u001b[2m2024-03-06 11:35:35.167 (  11.726s) [          1F340A]         api_config.cpp:270   INFO| \u001b[0mLoaded default config\u001b[0m\n",
      "\u001b[0m\u001b[2m2024-03-06 11:35:35.167 (  11.726s) [          1F340A]             common.cpp:65    INFO| \u001b[0mgit:/branch:/build:Release/compiler:Clang-15.0.7/link:SHARED\u001b[0m\n",
      "\u001b[0m\u001b[33m2024-03-06 11:35:35.168 (  11.727s) [          1F340A]         udp_server.cpp:82    WARN| Could not bind multicast responder for ff02:113d:6fdd:2c17:a643:ffe2:1bd1:3cd2 to interface ::1 (Can't assign requested address)\u001b[0m\n",
      "\u001b[0m\u001b[33m2024-03-06 11:35:35.168 (  11.727s) [          1F340A]         udp_server.cpp:82    WARN| Could not bind multicast responder for ff02:113d:6fdd:2c17:a643:ffe2:1bd1:3cd2 to interface 2a02:8109:bf0b:2000:181d:3351:b981:1b75 (Can't assign requested address)\u001b[0m\n",
      "\u001b[0m\u001b[33m2024-03-06 11:35:35.168 (  11.727s) [          1F340A]         udp_server.cpp:82    WARN| Could not bind multicast responder for ff02:113d:6fdd:2c17:a643:ffe2:1bd1:3cd2 to interface 2a02:8109:bf0b:2000:98e3:b1e0:c0dc:9285 (Can't assign requested address)\u001b[0m\n",
      "\u001b[0m\u001b[33m2024-03-06 11:35:35.168 (  11.727s) [          1F340A]         udp_server.cpp:82    WARN| Could not bind multicast responder for ff02:113d:6fdd:2c17:a643:ffe2:1bd1:3cd2 to interface 2a02:8109:bf0b:2000:cf:6476:8d2a:50ec (Can't assign requested address)\u001b[0m\n",
      "\u001b[0m\u001b[33m2024-03-06 11:35:35.169 (  11.728s) [          1F340A]         udp_server.cpp:82    WARN| Could not bind multicast responder for ff05:113d:6fdd:2c17:a643:ffe2:1bd1:3cd2 to interface fe80::cc:8192:5288:654c%en0 (Address already in use)\u001b[0m\n",
      "\u001b[0m\u001b[33m2024-03-06 11:35:35.169 (  11.728s) [          1F340A]         udp_server.cpp:82    WARN| Could not bind multicast responder for ff05:113d:6fdd:2c17:a643:ffe2:1bd1:3cd2 to interface 192.168.0.195 (Address already in use)\u001b[0m\n",
      "\u001b[0m\u001b[33m2024-03-06 11:35:35.169 (  11.728s) [          1F340A]         udp_server.cpp:82    WARN| Could not bind multicast responder for ff05:113d:6fdd:2c17:a643:ffe2:1bd1:3cd2 to interface 2a02:8109:bf0b:2000:181d:3351:b981:1b75 (Address already in use)\u001b[0m\n",
      "\u001b[0m\u001b[33m2024-03-06 11:35:35.169 (  11.728s) [          1F340A]         udp_server.cpp:82    WARN| Could not bind multicast responder for ff05:113d:6fdd:2c17:a643:ffe2:1bd1:3cd2 to interface 2a02:8109:bf0b:2000:98e3:b1e0:c0dc:9285 (Address already in use)\u001b[0m\n",
      "\u001b[0m\u001b[33m2024-03-06 11:35:35.169 (  11.728s) [          1F340A]         udp_server.cpp:82    WARN| Could not bind multicast responder for ff05:113d:6fdd:2c17:a643:ffe2:1bd1:3cd2 to interface 2a02:8109:bf0b:2000:cf:6476:8d2a:50ec (Address already in use)\u001b[0m\n",
      "\u001b[0m\u001b[33m2024-03-06 11:35:35.170 (  11.729s) [          1F340A]         udp_server.cpp:82    WARN| Could not bind multicast responder for ff02:113d:6fdd:2c17:a643:ffe2:1bd1:3cd2 to interface ::1 (Can't assign requested address)\u001b[0m\n",
      "\u001b[0m\u001b[33m2024-03-06 11:35:35.170 (  11.729s) [          1F340A]         udp_server.cpp:82    WARN| Could not bind multicast responder for ff02:113d:6fdd:2c17:a643:ffe2:1bd1:3cd2 to interface 2a02:8109:bf0b:2000:181d:3351:b981:1b75 (Can't assign requested address)\u001b[0m\n",
      "\u001b[0m\u001b[33m2024-03-06 11:35:35.170 (  11.729s) [          1F340A]         udp_server.cpp:82    WARN| Could not bind multicast responder for ff02:113d:6fdd:2c17:a643:ffe2:1bd1:3cd2 to interface 2a02:8109:bf0b:2000:98e3:b1e0:c0dc:9285 (Can't assign requested address)\u001b[0m\n",
      "\u001b[0m\u001b[33m2024-03-06 11:35:35.170 (  11.729s) [          1F340A]         udp_server.cpp:82    WARN| Could not bind multicast responder for ff02:113d:6fdd:2c17:a643:ffe2:1bd1:3cd2 to interface 2a02:8109:bf0b:2000:cf:6476:8d2a:50ec (Can't assign requested address)\u001b[0m\n",
      "\u001b[0m\u001b[33m2024-03-06 11:35:35.170 (  11.729s) [          1F340A]         udp_server.cpp:82    WARN| Could not bind multicast responder for ff05:113d:6fdd:2c17:a643:ffe2:1bd1:3cd2 to interface fe80::cc:8192:5288:654c%en0 (Address already in use)\u001b[0m\n",
      "\u001b[0m\u001b[33m2024-03-06 11:35:35.170 (  11.729s) [          1F340A]         udp_server.cpp:82    WARN| Could not bind multicast responder for ff05:113d:6fdd:2c17:a643:ffe2:1bd1:3cd2 to interface 192.168.0.195 (Address already in use)\u001b[0m\n",
      "\u001b[0m\u001b[33m2024-03-06 11:35:35.170 (  11.729s) [          1F340A]         udp_server.cpp:82    WARN| Could not bind multicast responder for ff05:113d:6fdd:2c17:a643:ffe2:1bd1:3cd2 to interface 2a02:8109:bf0b:2000:181d:3351:b981:1b75 (Address already in use)\u001b[0m\n",
      "\u001b[0m\u001b[33m2024-03-06 11:35:35.170 (  11.729s) [          1F340A]         udp_server.cpp:82    WARN| Could not bind multicast responder for ff05:113d:6fdd:2c17:a643:ffe2:1bd1:3cd2 to interface 2a02:8109:bf0b:2000:98e3:b1e0:c0dc:9285 (Address already in use)\u001b[0m\n",
      "\u001b[0m\u001b[33m2024-03-06 11:35:35.170 (  11.729s) [          1F340A]         udp_server.cpp:82    WARN| Could not bind multicast responder for ff05:113d:6fdd:2c17:a643:ffe2:1bd1:3cd2 to interface 2a02:8109:bf0b:2000:cf:6476:8d2a:50ec (Address already in use)\u001b[0m\n",
      "Connecting to Muse-01EE: 4D5E2EB4-EB72-1BE0-19D4-501ED06DF20A...\n",
      "Connected.\n",
      "Streaming EEG PPG...\n",
      "^C\n",
      "Disconnected.\n"
     ]
    }
   ],
   "source": [
    "!muselsl stream --ppg"
   ]
  }
 ],
 "metadata": {
  "kernelspec": {
   "display_name": "dsr-b37",
   "language": "python",
   "name": "python3"
  },
  "language_info": {
   "codemirror_mode": {
    "name": "ipython",
    "version": 3
   },
   "file_extension": ".py",
   "mimetype": "text/x-python",
   "name": "python",
   "nbconvert_exporter": "python",
   "pygments_lexer": "ipython3",
   "version": "3.12.0"
  }
 },
 "nbformat": 4,
 "nbformat_minor": 2
}
