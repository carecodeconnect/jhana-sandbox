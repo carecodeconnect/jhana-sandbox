{
 "cells": [
  {
   "cell_type": "markdown",
   "metadata": {},
   "source": [
    "# Pipeline Faster"
   ]
  },
  {
   "cell_type": "code",
   "execution_count": null,
   "metadata": {},
   "outputs": [],
   "source": [
    "!pip install numpy==1.26.4\n",
    "!pip install ollama==0.1.7\n",
    "!pip install openai_whisper==20231117\n",
    "!pip install scipy==1.12.0\n",
    "!pip install sounddevice==0.4.6\n",
    "!pip install torch==2.2.0\n",
    "!pip install torchaudio==2.2.0\n",
    "!pip install TTS==0.22.0\n"
   ]
  },
  {
   "cell_type": "code",
   "execution_count": 5,
   "metadata": {},
   "outputs": [
    {
     "name": "stdout",
     "output_type": "stream",
     "text": [
      " > tts_models/multilingual/multi-dataset/xtts_v2 is already downloaded.\n",
      " > Using model: xtts\n"
     ]
    },
    {
     "name": "stdout",
     "output_type": "stream",
     "text": [
      "Recording saved to ../data/input/audio/speech_to_transcribe/my_voice_recording.wav\n",
      "Transcribed text:  Thank you for watching!\n"
     ]
    }
   ],
   "source": [
    "import asyncio\n",
    "import os\n",
    "import numpy as np\n",
    "import sounddevice as sd\n",
    "from scipy.io.wavfile import write\n",
    "import whisper\n",
    "import torch\n",
    "from TTS.api import TTS\n",
    "import ollama\n",
    "\n",
    "# Pre-load models (ensure this is done in a way that they are kept in memory)\n",
    "whisper_model = whisper.load_model(\"small\", device=\"cuda\")\n",
    "device = \"cuda\" if torch.cuda.is_available() else \"cpu\"\n",
    "tts = TTS(\"tts_models/multilingual/multi-dataset/xtts_v2\").to(device)  # Adjust model as needed\n",
    "\n",
    "# Function to record audio asynchronously\n",
    "async def record_audio_async(duration=5, fs=44100):\n",
    "    recording = sd.rec(int(duration * fs), samplerate=fs, channels=2, dtype='float64')\n",
    "    await asyncio.sleep(duration)  # Async sleep for non-blocking wait\n",
    "    recording = np.int16(recording / np.max(np.abs(recording)) * 32767)\n",
    "    return recording, fs\n",
    "\n",
    "# Function to transcribe audio to text asynchronously\n",
    "async def transcribe_audio_async(audio_file_path):\n",
    "    result = whisper_model.transcribe(audio_file_path, language=\"en\")\n",
    "    return result[\"text\"]\n",
    "\n",
    "# Function to chat with Ollama asynchronously\n",
    "async def chat_with_ollama_async(transcribed_text):\n",
    "    # This function should be adapted to how you interact with your Ollama model.\n",
    "    # Below is a simplified example.\n",
    "    ollama_response = ollama.chat(model='mixtral:8x7b-instruct-v0.1-q4_0', messages=[{'role': 'user', 'content': transcribed_text}])\n",
    "    ollama_text = ollama_response['message']['content']\n",
    "    return ollama_text\n",
    "\n",
    "# Main async function to handle the app's logic\n",
    "async def main():\n",
    "    output_directory = \"../data/input/audio/speech_to_transcribe\"\n",
    "    os.makedirs(output_directory, exist_ok=True)\n",
    "    \n",
    "    # Record audio\n",
    "    audio, fs = await record_audio_async(duration=5)\n",
    "    audio_file_path = os.path.join(output_directory, \"my_voice_recording.wav\")\n",
    "    write(audio_file_path, fs, audio)\n",
    "    print(f\"Recording saved to {audio_file_path}\")\n",
    "\n",
    "    # Transcribe audio to text\n",
    "    transcribed_text = await transcribe_audio_async(audio_file_path)\n",
    "    print(\"Transcribed text:\", transcribed_text)\n",
    "\n",
    "    # Dialogue with Ollama\n",
    "    ollama_response = await chat_with_ollama_async(transcribed_text)\n",
    "    print(\"Ollama response:\", ollama_response)\n",
    "\n",
    "    # Further processing like TTS can be added here, following similar async patterns\n",
    "\n",
    "import asyncio\n",
    "\n",
    "# your existing code here\n",
    "\n",
    "if __name__ == \"__main__\":\n",
    "    loop = asyncio.get_event_loop()  # Get the current running event loop\n",
    "    if loop.is_running():  # Check if the loop is already running\n",
    "        # If the loop is running, use create_task to schedule the coroutine\n",
    "        task = loop.create_task(main())\n",
    "    else:\n",
    "        # If the loop is not running, use run_until_complete to run the coroutine\n",
    "        loop.run_until_complete(main())\n",
    "\n"
   ]
  }
 ],
 "metadata": {
  "kernelspec": {
   "display_name": "jhana_ai",
   "language": "python",
   "name": "python3"
  },
  "language_info": {
   "codemirror_mode": {
    "name": "ipython",
    "version": 3
   },
   "file_extension": ".py",
   "mimetype": "text/x-python",
   "name": "python",
   "nbconvert_exporter": "python",
   "pygments_lexer": "ipython3",
   "version": "3.10.13"
  }
 },
 "nbformat": 4,
 "nbformat_minor": 2
}
