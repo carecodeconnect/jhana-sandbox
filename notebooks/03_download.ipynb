{
 "cells": [
  {
   "cell_type": "markdown",
   "metadata": {},
   "source": [
    "# Download Data"
   ]
  },
  {
   "cell_type": "markdown",
   "metadata": {},
   "source": [
    "# Download Youtube Audio"
   ]
  },
  {
   "cell_type": "code",
   "execution_count": null,
   "metadata": {},
   "outputs": [
    {
     "name": "stdout",
     "output_type": "stream",
     "text": [
      "Download completed.\n"
     ]
    }
   ],
   "source": [
    "from pytube import YouTube\n",
    "\n",
    "# List of YouTube video URLs for guided Jhana meditations\n",
    "video_urls = [\n",
    "    \"https://www.youtube.com/watch?v=9qXu-_sHy5Q\",  # A Guided Meditation on the Breath and First Jhana - Ajahn Lee\n",
    "    \"https://www.youtube.com/watch?v=a7wTOKnJeds\",  # The Four Jhanas - A Guided Meditation - Ajahn Lee\n",
    "    \"https://www.youtube.com/watch?v=0K5ypXyF3dY\",  # How to Jhana — with Michael Taft\n",
    "    \"https://www.youtube.com/watch?v=pkwPIL4ZNPg\",  # Guided Meditation Through the Four Jhanas\n",
    "    \"https://www.youtube.com/watch?v=a0UUkLme5UE\",  # Bhante Gunaratana Jhana DVD 01A - Guided Meditation\n",
    "    \"https://www.youtube.com/watch?v=0FhQD9pfJL4\",  # Meditation With Focus On Jhana - Ven Ajahn Brahm\n",
    "    \"https://www.youtube.com/watch?v=Rs9ibiPy-5s\",  # Guided Meditation - Attaining Rupa and Arupa Jhanas\n",
    "    \"https://www.youtube.com/watch?v=9UaGROTkkfY\",  # Guided Sunrise Meditation to the First Jhana\n",
    "    \"https://www.youtube.com/watch?v=dHuYtz0zLUQ\",  # Advanced Breath Meditation and Jhana\n",
    "    \"https://www.youtube.com/watch?v=y2h54_Tcl9w\"   # GUIDED MEDITATION 1st Jhana, using Fire Kasina\n",
    "]\n",
    "\n",
    "for url in video_urls:\n",
    "    yt = YouTube(url)\n",
    "    stream = yt.streams.filter(only_audio=True).first()\n",
    "    filename = yt.title.replace(\"/\", \"-\")  # Replace any slashes in title to avoid path issues\n",
    "    output_path = \"../data/input/audio/guided_meditations/youtube\"  # Adjust if necessary\n",
    "    stream.download(output_path=output_path, filename=f\"{filename}.mp3\")\n",
    "\n",
    "print(\"Download completed.\")\n"
   ]
  },
  {
   "cell_type": "markdown",
   "metadata": {},
   "source": [
    "# Scrape the Web\n",
    "\n",
    "# dharmaseed.org\n",
    "\n",
    "Dharmaseed.org is a website that provides a large collection of Dharma talks. The website has a search function that allows users to search for talks by teacher, topic, or date. The search results are displayed in a list with the title, teacher, date, and duration of the talk. The website also provides a link to download the audio file of the talk."
   ]
  },
  {
   "cell_type": "code",
   "execution_count": null,
   "metadata": {},
   "outputs": [],
   "source": [
    "import requests\n",
    "from bs4 import BeautifulSoup\n",
    "import time\n",
    "import os\n",
    "\n",
    "def download_mp3(mp3_url, save_path):\n",
    "    try:\n",
    "        response = requests.get(mp3_url, stream=True)\n",
    "        with open(save_path, 'wb') as f:\n",
    "            for chunk in response.iter_content(chunk_size=1024):\n",
    "                if chunk:\n",
    "                    f.write(chunk)\n",
    "        print(f\"Downloaded: {save_path}\")\n",
    "    except Exception as e:\n",
    "        print(f\"Error downloading {mp3_url}: {str(e)}\")\n",
    "\n",
    "def scrape_and_download(url, base_save_path):\n",
    "    response = requests.get(url)\n",
    "    if response.status_code != 200:\n",
    "        print(f\"Failed to access {url}\")\n",
    "        return\n",
    "\n",
    "    soup = BeautifulSoup(response.content, 'html.parser')\n",
    "    links = soup.find_all('a', string='Download')  # Use 'string' instead of 'text'\n",
    "\n",
    "    for link in links:\n",
    "        # Check if the URL is absolute. If not, prepend the base URL.\n",
    "        mp3_url = link['href']\n",
    "        if mp3_url.startswith('/'):\n",
    "            mp3_url = requests.compat.urljoin(url, mp3_url)  # Ensure mp3_url is an absolute URL\n",
    "\n",
    "        file_name = mp3_url.split('/')[-1]\n",
    "        save_path = os.path.join(base_save_path, file_name)\n",
    "        download_mp3(mp3_url, save_path)\n",
    "        time.sleep(1)  # Respectful gap between downloads\n",
    "\n",
    "base_save_path = \"../data/input/audio/guided_meditations/audiodharma_dharmaseed/\"\n",
    "if not os.path.exists(base_save_path):\n",
    "    os.makedirs(base_save_path)\n",
    "\n",
    "urls = [\n",
    "    \"https://dharmaseed.org/talks/?search=jhana&sort=-rec_date&page_items=100\",\n",
    "    \"https://www.audiodharma.org/playables/search?query=jhana\"\n",
    "]\n",
    "\n",
    "for url in urls:\n",
    "    scrape_and_download(url, base_save_path)\n",
    "    time.sleep(5)  # Respectful gap between scraping different pages\n"
   ]
  },
  {
   "cell_type": "code",
   "execution_count": null,
   "metadata": {},
   "outputs": [],
   "source": []
  }
 ],
 "metadata": {
  "language_info": {
   "name": "python"
  }
 },
 "nbformat": 4,
 "nbformat_minor": 2
}
