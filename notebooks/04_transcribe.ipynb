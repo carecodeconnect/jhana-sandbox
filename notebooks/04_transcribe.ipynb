{
 "cells": [
  {
   "cell_type": "markdown",
   "metadata": {},
   "source": [
    "# Transcribe Audio"
   ]
  },
  {
   "cell_type": "code",
   "execution_count": null,
   "metadata": {},
   "outputs": [
    {
     "name": "stdout",
     "output_type": "stream",
     "text": [
      "Transcribing 'Meditation With Focus On Jhana - Ven Ajahn Brahm.mp3'...\n",
      "Transcription saved to '/home/solaris/projects/jhana/jhana_ai/data/input/text_transcribed/Meditation With Focus On Jhana - Ven Ajahn Brahm.txt'\n",
      "--------------------------------------------------------------------------------\n",
      "Transcribing 'Guided meditation through the four jhanas.mp3'...\n",
      "Transcription saved to '/home/solaris/projects/jhana/jhana_ai/data/input/text_transcribed/Guided meditation through the four jhanas.txt'\n",
      "--------------------------------------------------------------------------------\n",
      "Transcribing 'Guided sunrise meditation to the first jhana.mp3'...\n",
      "Transcription saved to '/home/solaris/projects/jhana/jhana_ai/data/input/text_transcribed/Guided sunrise meditation to the first jhana.txt'\n",
      "--------------------------------------------------------------------------------\n",
      "Transcribing 'The Four Jhanas ~ A Guided Meditation ~ Ajahn Lee ~ Theravadin Forest Tradition.mp3'...\n",
      "Transcription saved to '/home/solaris/projects/jhana/jhana_ai/data/input/text_transcribed/The Four Jhanas ~ A Guided Meditation ~ Ajahn Lee ~ Theravadin Forest Tradition.txt'\n",
      "--------------------------------------------------------------------------------\n",
      "Transcribing 'Advanced Breath Meditation and Jhana.mp3'...\n",
      "Transcription saved to '/home/solaris/projects/jhana/jhana_ai/data/input/text_transcribed/Advanced Breath Meditation and Jhana.txt'\n",
      "--------------------------------------------------------------------------------\n",
      "Transcribing '𝐀 𝐆𝐮𝐢𝐝𝐞𝐝 𝐌𝐞𝐝𝐢𝐭𝐚𝐭𝐢𝐨𝐧 𝐨𝐧 𝐭𝐡𝐞 𝐁𝐫𝐞𝐚𝐭𝐡 𝐚𝐧𝐝 𝐅𝐢𝐫𝐬𝐭 𝐉𝐡𝐚𝐧𝐚  - Ajahn Lee - Theravadin Forest Tradition.mp3'...\n",
      "Transcription saved to '/home/solaris/projects/jhana/jhana_ai/data/input/text_transcribed/𝐀 𝐆𝐮𝐢𝐝𝐞𝐝 𝐌𝐞𝐝𝐢𝐭𝐚𝐭𝐢𝐨𝐧 𝐨𝐧 𝐭𝐡𝐞 𝐁𝐫𝐞𝐚𝐭𝐡 𝐚𝐧𝐝 𝐅𝐢𝐫𝐬𝐭 𝐉𝐡𝐚𝐧𝐚  - Ajahn Lee - Theravadin Forest Tradition.txt'\n",
      "--------------------------------------------------------------------------------\n",
      "Transcribing 'Guided meditation - attaining Rupa and Arupa jhanas.mp3'...\n",
      "Transcription saved to '/home/solaris/projects/jhana/jhana_ai/data/input/text_transcribed/Guided meditation - attaining Rupa and Arupa jhanas.txt'\n",
      "--------------------------------------------------------------------------------\n",
      "Transcribing 'How to Jhana — with Michael Taft.mp3'...\n",
      "Transcription saved to '/home/solaris/projects/jhana/jhana_ai/data/input/text_transcribed/How to Jhana — with Michael Taft.txt'\n",
      "--------------------------------------------------------------------------------\n",
      "Transcribing 'GUIDED MEDITATION 1st Jhana, using Fire Kasina, with Projection as Consolation Prize | Concentration.mp3'...\n",
      "Transcription saved to '/home/solaris/projects/jhana/jhana_ai/data/input/text_transcribed/GUIDED MEDITATION 1st Jhana, using Fire Kasina, with Projection as Consolation Prize | Concentration.txt'\n",
      "--------------------------------------------------------------------------------\n",
      "Transcribing 'Bhante Gunaratana Jhana DVD 01A - guided meditation -  importance of metta in jhana.mp3'...\n",
      "Transcription saved to '/home/solaris/projects/jhana/jhana_ai/data/input/text_transcribed/Bhante Gunaratana Jhana DVD 01A - guided meditation -  importance of metta in jhana.txt'\n",
      "--------------------------------------------------------------------------------\n"
     ]
    }
   ],
   "source": [
    "import os\n",
    "import whisper\n",
    "\n",
    "# Load the Whisper small model\n",
    "model = whisper.load_model(\"small\")\n",
    "\n",
    "# Directory containing the MP3 files\n",
    "audio_dir = \"../data/input/audio/guided_meditations/youtube\"\n",
    "\n",
    "# Directory to save the transcribed text files\n",
    "text_dir = \"../data/input/text_transcribed\"\n",
    "os.makedirs(text_dir, exist_ok=True)  # Create the directory if it doesn't exist\n",
    "\n",
    "# List all MP3 files in the directory\n",
    "audio_files = [f for f in os.listdir(audio_dir) if f.endswith('.mp3')]\n",
    "\n",
    "# Transcribe each audio file and save the transcription\n",
    "for audio_file in audio_files:\n",
    "    audio_file_path = os.path.join(audio_dir, audio_file)\n",
    "    print(f\"Transcribing '{audio_file}'...\")\n",
    "\n",
    "    # Transcribe the audio file\n",
    "    result = model.transcribe(audio_file_path, language=\"en\")\n",
    "    transcribed_text = result[\"text\"]\n",
    "\n",
    "    # Define the path for the output text file\n",
    "    text_file_path = os.path.join(text_dir, f\"{os.path.splitext(audio_file)[0]}.txt\")\n",
    "\n",
    "    # Save the transcribed text to a file\n",
    "    with open(text_file_path, 'w') as text_file:\n",
    "        text_file.write(transcribed_text)\n",
    "    \n",
    "    print(f\"Transcription saved to '{text_file_path}'\")\n",
    "    print(\"-\" * 80)\n"
   ]
  }
 ],
 "metadata": {
  "language_info": {
   "name": "python"
  }
 },
 "nbformat": 4,
 "nbformat_minor": 2
}
