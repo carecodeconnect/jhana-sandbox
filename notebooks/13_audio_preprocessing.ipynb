{
 "cells": [
  {
   "cell_type": "code",
   "execution_count": null,
   "metadata": {},
   "outputs": [],
   "source": [
    "!pip install whisper \n",
    "!pip install pytube\n",
    "!pip install jupyter-dash\n",
    "!pip install plotly==4.4.1\n",
    "!pip install ipywidgets\n",
    "!jupyter nbextension enable --py widgetsnbextension\n",
    "!pip install jupyterlab-plotly\n",
    "!pip install openai-whisper"
   ]
  },
  {
   "cell_type": "code",
   "execution_count": 1,
   "metadata": {},
   "outputs": [],
   "source": [
    "# Import necessary libraries\n",
    "from os import name\n",
    "import numpy as np\n",
    "import librosa\n",
    "import soundfile as sf\n",
    "import whisper\n",
    "import tempfile\n",
    "import ipywidgets as widgets\n",
    "from IPython.display import display\n",
    "import plotly.graph_objects as go\n",
    "import IPython.display as ipd\n",
    "from pytube import YouTube\n",
    "%matplotlib inline"
   ]
  },
  {
   "cell_type": "markdown",
   "metadata": {},
   "source": [
    "# Outline:\n",
    "\n",
    "1. Define the necessary functions.\n",
    "    - Download the audio.\n",
    "    - Load the audio.\n",
    "    - Visualize the audio and detect the silence threshold.\n",
    "    - Detect the silent and non-silent periods.\n",
    "    - Transcribe the audio bearing in silent periods.\n",
    "2. Demonstrate the process\n"
   ]
  },
  {
   "cell_type": "markdown",
   "metadata": {},
   "source": [
    "## Define the necessary functions"
   ]
  },
  {
   "cell_type": "markdown",
   "metadata": {},
   "source": [
    "### Download the audio file"
   ]
  },
  {
   "cell_type": "code",
   "execution_count": 2,
   "metadata": {},
   "outputs": [],
   "source": [
    "def download_audio(youtube_url: str, file_name: str):\n",
    "    \"\"\"\n",
    "    Downloads the audio from a YouTube video.\n",
    "\n",
    "    Parameters:\n",
    "    youtube_url (str): The URL of the YouTube video.\n",
    "    file_name (str): The name of the file to save the audio as.\n",
    "\n",
    "    Returns:\n",
    "    None\n",
    "    \"\"\"\n",
    "    # Create a YouTube object with the given URL\n",
    "    yt = YouTube(youtube_url)\n",
    "\n",
    "    # Filter the available streams to only include audio streams\n",
    "    audio_stream = yt.streams.filter(only_audio=True).first()\n",
    "\n",
    "    # Download the audio stream and save it to the specified file name\n",
    "    audio_stream.download(filename=file_name)"
   ]
  },
  {
   "cell_type": "markdown",
   "metadata": {},
   "source": [
    "### Load the audio."
   ]
  },
  {
   "cell_type": "code",
   "execution_count": 3,
   "metadata": {},
   "outputs": [],
   "source": [
    "# Load the audio file\n",
    "def load_audio(file_name: str):\n",
    "    \"\"\"\n",
    "    Loads an audio file into a numpy array.\n",
    "\n",
    "    Parameters:\n",
    "    file_name (str): The name of the file to load.\n",
    "\n",
    "    Returns:\n",
    "    np.ndarray: The audio data.\n",
    "    int: The sample rate of the audio data.\n",
    "    \"\"\"\n",
    "    # Load the audio file using librosa\n",
    "    audio_data, sample_rate = librosa.load(file_name, sr=None)\n",
    "\n",
    "    return audio_data, sample_rate"
   ]
  },
  {
   "cell_type": "markdown",
   "metadata": {},
   "source": [
    "### Visualize the audio and detect the silence threshold.\n"
   ]
  },
  {
   "cell_type": "code",
   "execution_count": 4,
   "metadata": {},
   "outputs": [],
   "source": [
    "# Visualize the audio\n",
    "# Warning: On CPU, this function may take a long time to run for long audio files\n",
    "def visualize_audio(y, sr, play = False, L = None) -> tuple[np.ndarray, int]:\n",
    "    \"\"\"\n",
    "    Visualize an audio signal, calculate the mean magnitude for every group of 20 samples,\n",
    "    and visualize the mean magnitude over time.\n",
    "\n",
    "    Parameters:\n",
    "        y (np.ndarray): The audio signal.\n",
    "        sr (int): The sampling rate of the audio signal.\n",
    "        L (np.ndarray): A 2D array where each row is a pair of values representing the start and end of a period.\n",
    "\n",
    "    \"\"\"\n",
    "\n",
    "    # Calculate the mean magnitude for every group of 20 samples\n",
    "    means = [np.mean(np.abs(y[i:i+20])) for i in range(0, len(y), 20)]\n",
    "    means_db = librosa.amplitude_to_db(means)\n",
    "\n",
    "    # Create sample count array for the means\n",
    "    sample_index_means = np.arange(0, len(means)) * 20 / sr  # Convert to seconds\n",
    "\n",
    "    # Create the plot\n",
    "    fig = go.Figure()\n",
    "    fig.add_trace(go.Scatter(x=sample_index_means, y=means_db, mode='lines', name='Mean Magnitude'))\n",
    "    # Add a horizontal line\n",
    "    fig.add_trace(go.Scatter(x=[sample_index_means[0], sample_index_means[-1]], y=[min(means_db), min(means_db)], mode='lines', name='Threshold'))\n",
    "\n",
    "    # Add vertical lines for each value in L\n",
    "    if L is not None:\n",
    "        for start, end in L:\n",
    "            # Add a line at the start of the period\n",
    "            fig.add_shape(\n",
    "                type=\"line\",\n",
    "                x0=start,\n",
    "                y0=min(means_db),\n",
    "                x1=start,\n",
    "                y1=max(means_db),\n",
    "                line=dict(\n",
    "                    color=\"Red\",\n",
    "                    width=2,\n",
    "                    dash=\"dashdot\",\n",
    "                ),\n",
    "            )\n",
    "            # Add a line at the end of the period\n",
    "            fig.add_shape(\n",
    "                type=\"line\",\n",
    "                x0=end,\n",
    "                y0=min(means_db),\n",
    "                x1=end,\n",
    "                y1=max(means_db),\n",
    "                line=dict(\n",
    "                    color=\"Red\",\n",
    "                    width=2,\n",
    "                    dash=\"dashdot\",\n",
    "                ),\n",
    "            )\n",
    "\n",
    "    fig.update_layout(\n",
    "        title='Mean Magnitude over Time',\n",
    "        xaxis_title='Time (seconds)',\n",
    "        yaxis_title='Mean Magnitude (dB)',\n",
    "        width=1200,  # Width of the figure in pixels\n",
    "        height=600   # Height of the figure in pixels\n",
    "    )\n",
    "\n",
    "    fig.show()\n",
    "\n",
    "    if play == True:\n",
    "        # listen to the audio file\n",
    "        display(ipd.Audio(y, rate=sr))"
   ]
  },
  {
   "cell_type": "code",
   "execution_count": 7,
   "metadata": {},
   "outputs": [],
   "source": [
    "# When GPU is available, use this function to visualize the audio\n",
    "import matplotlib.pyplot as plt\n",
    "\n",
    "def simple_visualize_audio(y, sr, save_path=None):\n",
    "    \"\"\"\n",
    "    Visualize an audio signal and plot the mean magnitude over time.\n",
    "\n",
    "    Parameters:\n",
    "        y (np.ndarray): The audio signal.\n",
    "        sr (int): The sampling rate of the audio signal.\n",
    "        save_path (str): The path to save the graph (optional).\n",
    "\n",
    "    Returns:\n",
    "        None\n",
    "    \"\"\"\n",
    "    # Calculate the mean magnitude for every group of 20 samples\n",
    "    means = [np.mean(np.abs(y[i:i+20])) for i in range(0, len(y), 20)]\n",
    "    means_db = librosa.amplitude_to_db(means)\n",
    "\n",
    "    # Create sample count array for the means\n",
    "    sample_index_means = np.arange(0, len(means)) * 20 / sr  # Convert to seconds\n",
    "\n",
    "    # Create the plot\n",
    "    plt.figure(figsize=(12, 6))\n",
    "    plt.plot(sample_index_means, means_db)\n",
    "    plt.title('Mean Magnitude over Time')\n",
    "    plt.xlabel('Time (seconds)')\n",
    "    plt.ylabel('Mean Magnitude (dB)')\n",
    "\n",
    "    if save_path:\n",
    "        plt.savefig(save_path)  # Save the graph to the specified path\n",
    "\n",
    "    plt.show()"
   ]
  },
  {
   "cell_type": "markdown",
   "metadata": {},
   "source": [
    "### Detect the silent and non-silent periods."
   ]
  },
  {
   "cell_type": "code",
   "execution_count": 8,
   "metadata": {},
   "outputs": [],
   "source": [
    "def detect_periods(y: np.ndarray, sr: int, threshold: float) -> tuple:\n",
    "    \"\"\"\n",
    "    Detect the periods of non-silence in the audio signal based on a given threshold.\n",
    "\n",
    "    Parameters:\n",
    "    y (np.ndarray): The audio signal.\n",
    "    sr (int): The sample rate of the audio signal.\n",
    "    threshold (float): The threshold value for detecting non-silence.\n",
    "\n",
    "    Returns:\n",
    "    tuple: A tuple containing three arrays.\n",
    "        1st array: Non-silence .\n",
    "        2nd array: Silent periods.\n",
    "        3rd array: Periods as dictionaries with 'key = non-silence/silence' and 'value' fields.\n",
    "\n",
    "    \"\"\"\n",
    "    unfiltered_non_silent_periods = librosa.effects.split(y, top_db=threshold)/sr\n",
    "    silence = []\n",
    "    for i in range(unfiltered_non_silent_periods.shape[0]-1):\n",
    "        if unfiltered_non_silent_periods[i+1, 0] -unfiltered_non_silent_periods[i, 1] > 2:\n",
    "            silence.append([unfiltered_non_silent_periods[i, 1]+0.5, unfiltered_non_silent_periods[i+1, 0]-0.5])\n",
    "\n",
    "    silence = np.array(silence)  # Convert to numpy array\n",
    "\n",
    "    # return complement of silence\n",
    "    audio_length = len(y)/sr\n",
    "    if silence.size > 0:  # Check if silence is not empty\n",
    "        non_silence = np.array([[0, silence[0, 0]]])\n",
    "        for i in range(silence.shape[0]-1):\n",
    "            non_silence = np.append(non_silence, [[silence[i, 1], silence[i+1, 0]]], axis=0)\n",
    "        non_silence = np.append(non_silence, [[silence[-1, 1], audio_length]], axis=0)\n",
    "    else:\n",
    "        non_silence = np.array([[0, audio_length]])\n",
    "\n",
    "    # Merge non_silence and silence arrays and sort by start time\n",
    "    periods = np.concatenate((non_silence, silence))\n",
    "    periods = periods[periods[:, 0].argsort()]\n",
    "\n",
    "    # Create set of non-silent periods\n",
    "    non_silence_set = set(map(tuple, non_silence))\n",
    "\n",
    "    # Create list of dictionaries\n",
    "    # periods_dicts = [{'key': 'non-silence' if tuple(period) in non_silence_set else 'silence', 'value': period} for period in periods]\n",
    "    # Create list of dictionaries\n",
    "    periods_dicts = [{('non-silence' if tuple(period) in non_silence_set else 'silence'): period} for period in periods]\n",
    "\n",
    "    return non_silence, silence, periods_dicts"
   ]
  },
  {
   "cell_type": "markdown",
   "metadata": {},
   "source": [
    "### Transcribe the audio bearing in silent periods.\n"
   ]
  },
  {
   "cell_type": "code",
   "execution_count": 9,
   "metadata": {},
   "outputs": [],
   "source": [
    "def transcribe_silence(y: np.ndarray, sr, periods_dictionaries: list, file_name: str, whisper_name=\"small\", language=\"en\"):\n",
    "    \"\"\"\n",
    "    1. Opens a txt.file to write transcriptions\n",
    "    2. Iterates through all periods\n",
    "    3. If the period is silence, it writes \"silence: ceiling of the length of the period in seconds\"\n",
    "    4. If the period is non-silence, it transcribes the audio and writes the transcription\n",
    "    5. Each trascription is written in a new line\n",
    "    6. Save the file to file;_name and close the file\n",
    "\n",
    "    params:\n",
    "    y: numpy array, the original audio file that will be transcribed\n",
    "    sr: int, the sample rate of the audio file\n",
    "    periods_dictionaries: list of dictionaries, each period is a dictonary one one key value pair\n",
    "            period key: either silence or non-silence\n",
    "            period value: numpy array indicating the start and end time (in seconds)\n",
    "    file_name: str, the name of the file where the transcriptions will be saved\n",
    "    whisper_name: str, the name of the whisper model to be used for the transcription\n",
    "    language: str, the language of the audio file\n",
    "    \"\"\"\n",
    "    model = whisper.load_model(whisper_name)\n",
    "\n",
    "    with open(f\"{file_name}.txt\", \"w\") as file:\n",
    "        for period in periods_dictionaries:\n",
    "            period_type = next(iter(period.keys()))\n",
    "            start, end = next(iter(period.values()))\n",
    "            if period_type == \"silence\":\n",
    "                file.write(f\"silence: {np.ceil(end - start)}\\n\")\n",
    "            else:\n",
    "                with tempfile.NamedTemporaryFile(suffix=\".wav\", delete=False) as tmpfile:\n",
    "                    sf.write(tmpfile, y[int(start*sr):int(end*sr)], sr)\n",
    "                    result = model.transcribe(tmpfile.name, language=language)\n",
    "                    file.write(result[\"text\"] + \"\\n\")"
   ]
  },
  {
   "cell_type": "markdown",
   "metadata": {},
   "source": [
    "## 2. Demostrate the following steps:\n",
    "- Download the audio.\n",
    "- Load the audio.\n",
    "- Visualize the audio and detect the silence threshold.\n",
    "- Detect the silent and non-silent periods.\n",
    "- Transcribe the audio bearing in silent periods."
   ]
  },
  {
   "cell_type": "code",
   "execution_count": 11,
   "metadata": {},
   "outputs": [],
   "source": [
    "# Download the audio file\n",
    "url = \"https://www.youtube.com/watch?v=9qXu-_sHy5Q\"\n",
    "file_name = \"../data/input/audio/𝐀 𝐆𝐮𝐢𝐝𝐞𝐝 𝐌𝐞𝐝𝐢𝐭𝐚𝐭𝐢𝐨𝐧 𝐨𝐧 𝐭𝐡𝐞 𝐁𝐫𝐞𝐚𝐭𝐡 𝐚𝐧𝐝 𝐅𝐢𝐫𝐬𝐭 𝐉𝐡𝐚𝐧𝐚 - Ajahn Lee - Theravadin Forest Tradition.wav\"\n",
    "\n",
    "# download_audio(url, file_name)\n"
   ]
  },
  {
   "cell_type": "code",
   "execution_count": 12,
   "metadata": {},
   "outputs": [
    {
     "name": "stderr",
     "output_type": "stream",
     "text": [
      "/tmp/ipykernel_148548/4126078679.py:14: UserWarning: PySoundFile failed. Trying audioread instead.\n",
      "  audio_data, sample_rate = librosa.load(file_name, sr=None)\n",
      "/home/safak/anaconda3/envs/jhana/lib/python3.11/site-packages/librosa/core/audio.py:183: FutureWarning: librosa.core.audio.__audioread_load\n",
      "\tDeprecated as of librosa version 0.10.0.\n",
      "\tIt will be removed in librosa version 1.0.\n",
      "  y, sr_native = __audioread_load(path, offset, duration, dtype)\n"
     ]
    }
   ],
   "source": [
    "# Load the audio file\n",
    "y, sr = load_audio(file_name)"
   ]
  },
  {
   "cell_type": "code",
   "execution_count": 14,
   "metadata": {},
   "outputs": [
    {
     "data": {
      "image/png": "[encoded data removed]",
      "text/plain": [
       "<Figure size 1200x600 with 1 Axes>"
      ]
     },
     "metadata": {},
     "output_type": "display_data"
    }
   ],
   "source": [
    "# Visualize the audio with the simple method\n",
    "simple_visualize_audio(y, sr, save_path=\"../img/mean_magnitude_over_time_𝐀 𝐆𝐮𝐢𝐝𝐞𝐝 𝐌𝐞𝐝𝐢𝐭𝐚𝐭𝐢𝐨𝐧 𝐨𝐧 𝐭𝐡𝐞 𝐁𝐫𝐞𝐚𝐭𝐡 𝐚𝐧𝐝 𝐅𝐢𝐫𝐬𝐭 𝐉𝐡𝐚𝐧𝐚 - Ajahn Lee - Theravadin Forest Tradition.png\")"
   ]
  },
  {
   "cell_type": "code",
   "execution_count": 15,
   "metadata": {},
   "outputs": [],
   "source": [
    "# Set the threshold\n",
    "threshold = 50.09"
   ]
  },
  {
   "cell_type": "code",
   "execution_count": 13,
   "metadata": {},
   "outputs": [],
   "source": [
    "# Detect silent and non-silent periods\n",
    "non_silent_periods, silent_periods, periods_dictionary = detect_periods(y, sr, threshold)\n",
    "periods_dictionary"
   ]
  },
  {
   "cell_type": "code",
   "execution_count": null,
   "metadata": {},
   "outputs": [],
   "source": [
    "# Transcribe the audio and silence\n",
    "file_name = \"../data/input/text_transcribed/𝐀 𝐆𝐮𝐢𝐝𝐞𝐝 𝐌𝐞𝐝𝐢𝐭𝐚𝐭𝐢𝐨𝐧 𝐨𝐧 𝐭𝐡𝐞 𝐁𝐫𝐞𝐚𝐭𝐡 𝐚𝐧𝐝 𝐅𝐢𝐫𝐬𝐭 𝐉𝐡𝐚𝐧𝐚 - Ajahn Lee - Theravadin Forest Tradition.wav\"\n",
    "transcribe_silence(y, sr, periods_dictionary, \"example_meditation_transcription\", \"small\", \"en\")"
   ]
  },
  {
   "cell_type": "code",
   "execution_count": null,
   "metadata": {},
   "outputs": [],
   "source": []
  }
 ],
 "metadata": {
  "kernelspec": {
   "display_name": "jhana",
   "language": "python",
   "name": "python3"
  },
  "language_info": {
   "codemirror_mode": {
    "name": "ipython",
    "version": 3
   },
   "file_extension": ".py",
   "mimetype": "text/x-python",
   "name": "python",
   "nbconvert_exporter": "python",
   "pygments_lexer": "ipython3",
   "version": "3.11.8"
  }
 },
 "nbformat": 4,
 "nbformat_minor": 2
}
